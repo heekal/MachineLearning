{
 "cells": [
  {
   "cell_type": "code",
   "execution_count": 1,
   "id": "b7d2f2bf-c5ac-4b6d-ac59-7c2cf0cf8c0e",
   "metadata": {},
   "outputs": [],
   "source": [
    "import pandas as pd\n",
    "import numpy as np\n",
    "import matplotlib.pyplot as plt\n",
    "import seaborn as sns"
   ]
  },
  {
   "cell_type": "code",
   "execution_count": 19,
   "id": "ae852393-4854-4132-b70f-f36065d4a6f4",
   "metadata": {},
   "outputs": [],
   "source": [
    "df = pd.read_csv(r'C:\\Users\\haika\\Documents\\machine learning\\res\\Automobile.csv')"
   ]
  },
  {
   "cell_type": "code",
   "execution_count": 20,
   "id": "a22695a7-2ec7-48b8-9eb4-ccc4d0c59e4a",
   "metadata": {},
   "outputs": [
    {
     "data": {
      "text/html": [
       "<div>\n",
       "<style scoped>\n",
       "    .dataframe tbody tr th:only-of-type {\n",
       "        vertical-align: middle;\n",
       "    }\n",
       "\n",
       "    .dataframe tbody tr th {\n",
       "        vertical-align: top;\n",
       "    }\n",
       "\n",
       "    .dataframe thead th {\n",
       "        text-align: right;\n",
       "    }\n",
       "</style>\n",
       "<table border=\"1\" class=\"dataframe\">\n",
       "  <thead>\n",
       "    <tr style=\"text-align: right;\">\n",
       "      <th></th>\n",
       "      <th>price</th>\n",
       "      <th>highway-mpg</th>\n",
       "      <th>city-mpg</th>\n",
       "      <th>peak-rpm</th>\n",
       "      <th>horsepower</th>\n",
       "      <th>compression-ratio</th>\n",
       "      <th>stroke</th>\n",
       "      <th>bore</th>\n",
       "      <th>fuel-system</th>\n",
       "      <th>engine-size</th>\n",
       "      <th>...</th>\n",
       "      <th>wheel-base</th>\n",
       "      <th>engine-location</th>\n",
       "      <th>drive-wheels</th>\n",
       "      <th>body-style</th>\n",
       "      <th>num-of-doors</th>\n",
       "      <th>aspiration</th>\n",
       "      <th>fuel-type</th>\n",
       "      <th>make</th>\n",
       "      <th>normalized-losses</th>\n",
       "      <th>symboling</th>\n",
       "    </tr>\n",
       "  </thead>\n",
       "  <tbody>\n",
       "    <tr>\n",
       "      <th>0</th>\n",
       "      <td>13495.0</td>\n",
       "      <td>27</td>\n",
       "      <td>21</td>\n",
       "      <td>5000.0</td>\n",
       "      <td>111.0</td>\n",
       "      <td>9.0</td>\n",
       "      <td>2.68</td>\n",
       "      <td>3.47</td>\n",
       "      <td>mpfi</td>\n",
       "      <td>130</td>\n",
       "      <td>...</td>\n",
       "      <td>88.6</td>\n",
       "      <td>front</td>\n",
       "      <td>rwd</td>\n",
       "      <td>convertible</td>\n",
       "      <td>2.0</td>\n",
       "      <td>std</td>\n",
       "      <td>gas</td>\n",
       "      <td>alfa-romero</td>\n",
       "      <td>NaN</td>\n",
       "      <td>3</td>\n",
       "    </tr>\n",
       "    <tr>\n",
       "      <th>1</th>\n",
       "      <td>16500.0</td>\n",
       "      <td>27</td>\n",
       "      <td>21</td>\n",
       "      <td>5000.0</td>\n",
       "      <td>111.0</td>\n",
       "      <td>9.0</td>\n",
       "      <td>2.68</td>\n",
       "      <td>3.47</td>\n",
       "      <td>mpfi</td>\n",
       "      <td>130</td>\n",
       "      <td>...</td>\n",
       "      <td>88.6</td>\n",
       "      <td>front</td>\n",
       "      <td>rwd</td>\n",
       "      <td>convertible</td>\n",
       "      <td>2.0</td>\n",
       "      <td>std</td>\n",
       "      <td>gas</td>\n",
       "      <td>alfa-romero</td>\n",
       "      <td>NaN</td>\n",
       "      <td>3</td>\n",
       "    </tr>\n",
       "    <tr>\n",
       "      <th>2</th>\n",
       "      <td>16500.0</td>\n",
       "      <td>26</td>\n",
       "      <td>19</td>\n",
       "      <td>5000.0</td>\n",
       "      <td>154.0</td>\n",
       "      <td>9.0</td>\n",
       "      <td>3.47</td>\n",
       "      <td>2.68</td>\n",
       "      <td>mpfi</td>\n",
       "      <td>152</td>\n",
       "      <td>...</td>\n",
       "      <td>94.5</td>\n",
       "      <td>front</td>\n",
       "      <td>rwd</td>\n",
       "      <td>hatchback</td>\n",
       "      <td>2.0</td>\n",
       "      <td>std</td>\n",
       "      <td>gas</td>\n",
       "      <td>alfa-romero</td>\n",
       "      <td>NaN</td>\n",
       "      <td>1</td>\n",
       "    </tr>\n",
       "    <tr>\n",
       "      <th>3</th>\n",
       "      <td>13950.0</td>\n",
       "      <td>30</td>\n",
       "      <td>24</td>\n",
       "      <td>5500.0</td>\n",
       "      <td>102.0</td>\n",
       "      <td>10.0</td>\n",
       "      <td>3.40</td>\n",
       "      <td>3.19</td>\n",
       "      <td>mpfi</td>\n",
       "      <td>109</td>\n",
       "      <td>...</td>\n",
       "      <td>99.8</td>\n",
       "      <td>front</td>\n",
       "      <td>fwd</td>\n",
       "      <td>sedan</td>\n",
       "      <td>4.0</td>\n",
       "      <td>std</td>\n",
       "      <td>gas</td>\n",
       "      <td>audi</td>\n",
       "      <td>164.0</td>\n",
       "      <td>2</td>\n",
       "    </tr>\n",
       "    <tr>\n",
       "      <th>4</th>\n",
       "      <td>17450.0</td>\n",
       "      <td>22</td>\n",
       "      <td>18</td>\n",
       "      <td>5500.0</td>\n",
       "      <td>115.0</td>\n",
       "      <td>8.0</td>\n",
       "      <td>3.40</td>\n",
       "      <td>3.19</td>\n",
       "      <td>mpfi</td>\n",
       "      <td>136</td>\n",
       "      <td>...</td>\n",
       "      <td>99.4</td>\n",
       "      <td>front</td>\n",
       "      <td>4wd</td>\n",
       "      <td>sedan</td>\n",
       "      <td>4.0</td>\n",
       "      <td>std</td>\n",
       "      <td>gas</td>\n",
       "      <td>audi</td>\n",
       "      <td>164.0</td>\n",
       "      <td>2</td>\n",
       "    </tr>\n",
       "    <tr>\n",
       "      <th>...</th>\n",
       "      <td>...</td>\n",
       "      <td>...</td>\n",
       "      <td>...</td>\n",
       "      <td>...</td>\n",
       "      <td>...</td>\n",
       "      <td>...</td>\n",
       "      <td>...</td>\n",
       "      <td>...</td>\n",
       "      <td>...</td>\n",
       "      <td>...</td>\n",
       "      <td>...</td>\n",
       "      <td>...</td>\n",
       "      <td>...</td>\n",
       "      <td>...</td>\n",
       "      <td>...</td>\n",
       "      <td>...</td>\n",
       "      <td>...</td>\n",
       "      <td>...</td>\n",
       "      <td>...</td>\n",
       "      <td>...</td>\n",
       "      <td>...</td>\n",
       "    </tr>\n",
       "    <tr>\n",
       "      <th>200</th>\n",
       "      <td>16845.0</td>\n",
       "      <td>28</td>\n",
       "      <td>23</td>\n",
       "      <td>5400.0</td>\n",
       "      <td>114.0</td>\n",
       "      <td>9.5</td>\n",
       "      <td>3.15</td>\n",
       "      <td>3.78</td>\n",
       "      <td>mpfi</td>\n",
       "      <td>141</td>\n",
       "      <td>...</td>\n",
       "      <td>109.1</td>\n",
       "      <td>front</td>\n",
       "      <td>rwd</td>\n",
       "      <td>sedan</td>\n",
       "      <td>4.0</td>\n",
       "      <td>std</td>\n",
       "      <td>gas</td>\n",
       "      <td>volvo</td>\n",
       "      <td>95.0</td>\n",
       "      <td>-1</td>\n",
       "    </tr>\n",
       "    <tr>\n",
       "      <th>201</th>\n",
       "      <td>19045.0</td>\n",
       "      <td>25</td>\n",
       "      <td>19</td>\n",
       "      <td>5300.0</td>\n",
       "      <td>160.0</td>\n",
       "      <td>8.7</td>\n",
       "      <td>3.15</td>\n",
       "      <td>3.78</td>\n",
       "      <td>mpfi</td>\n",
       "      <td>141</td>\n",
       "      <td>...</td>\n",
       "      <td>109.1</td>\n",
       "      <td>front</td>\n",
       "      <td>rwd</td>\n",
       "      <td>sedan</td>\n",
       "      <td>4.0</td>\n",
       "      <td>turbo</td>\n",
       "      <td>gas</td>\n",
       "      <td>volvo</td>\n",
       "      <td>95.0</td>\n",
       "      <td>-1</td>\n",
       "    </tr>\n",
       "    <tr>\n",
       "      <th>202</th>\n",
       "      <td>21485.0</td>\n",
       "      <td>23</td>\n",
       "      <td>18</td>\n",
       "      <td>5500.0</td>\n",
       "      <td>134.0</td>\n",
       "      <td>8.8</td>\n",
       "      <td>2.87</td>\n",
       "      <td>3.58</td>\n",
       "      <td>mpfi</td>\n",
       "      <td>173</td>\n",
       "      <td>...</td>\n",
       "      <td>109.1</td>\n",
       "      <td>front</td>\n",
       "      <td>rwd</td>\n",
       "      <td>sedan</td>\n",
       "      <td>4.0</td>\n",
       "      <td>std</td>\n",
       "      <td>gas</td>\n",
       "      <td>volvo</td>\n",
       "      <td>95.0</td>\n",
       "      <td>-1</td>\n",
       "    </tr>\n",
       "    <tr>\n",
       "      <th>203</th>\n",
       "      <td>22470.0</td>\n",
       "      <td>27</td>\n",
       "      <td>26</td>\n",
       "      <td>4800.0</td>\n",
       "      <td>106.0</td>\n",
       "      <td>23.0</td>\n",
       "      <td>3.40</td>\n",
       "      <td>3.01</td>\n",
       "      <td>idi</td>\n",
       "      <td>145</td>\n",
       "      <td>...</td>\n",
       "      <td>109.1</td>\n",
       "      <td>front</td>\n",
       "      <td>rwd</td>\n",
       "      <td>sedan</td>\n",
       "      <td>4.0</td>\n",
       "      <td>turbo</td>\n",
       "      <td>diesel</td>\n",
       "      <td>volvo</td>\n",
       "      <td>95.0</td>\n",
       "      <td>-1</td>\n",
       "    </tr>\n",
       "    <tr>\n",
       "      <th>204</th>\n",
       "      <td>22625.0</td>\n",
       "      <td>25</td>\n",
       "      <td>19</td>\n",
       "      <td>5400.0</td>\n",
       "      <td>114.0</td>\n",
       "      <td>9.5</td>\n",
       "      <td>3.15</td>\n",
       "      <td>3.78</td>\n",
       "      <td>mpfi</td>\n",
       "      <td>141</td>\n",
       "      <td>...</td>\n",
       "      <td>109.1</td>\n",
       "      <td>front</td>\n",
       "      <td>rwd</td>\n",
       "      <td>sedan</td>\n",
       "      <td>4.0</td>\n",
       "      <td>turbo</td>\n",
       "      <td>gas</td>\n",
       "      <td>volvo</td>\n",
       "      <td>95.0</td>\n",
       "      <td>-1</td>\n",
       "    </tr>\n",
       "  </tbody>\n",
       "</table>\n",
       "<p>205 rows × 26 columns</p>\n",
       "</div>"
      ],
      "text/plain": [
       "       price  highway-mpg  city-mpg  peak-rpm  horsepower  compression-ratio  \\\n",
       "0    13495.0           27        21    5000.0       111.0                9.0   \n",
       "1    16500.0           27        21    5000.0       111.0                9.0   \n",
       "2    16500.0           26        19    5000.0       154.0                9.0   \n",
       "3    13950.0           30        24    5500.0       102.0               10.0   \n",
       "4    17450.0           22        18    5500.0       115.0                8.0   \n",
       "..       ...          ...       ...       ...         ...                ...   \n",
       "200  16845.0           28        23    5400.0       114.0                9.5   \n",
       "201  19045.0           25        19    5300.0       160.0                8.7   \n",
       "202  21485.0           23        18    5500.0       134.0                8.8   \n",
       "203  22470.0           27        26    4800.0       106.0               23.0   \n",
       "204  22625.0           25        19    5400.0       114.0                9.5   \n",
       "\n",
       "     stroke  bore fuel-system  engine-size  ...  wheel-base engine-location  \\\n",
       "0      2.68  3.47        mpfi          130  ...        88.6           front   \n",
       "1      2.68  3.47        mpfi          130  ...        88.6           front   \n",
       "2      3.47  2.68        mpfi          152  ...        94.5           front   \n",
       "3      3.40  3.19        mpfi          109  ...        99.8           front   \n",
       "4      3.40  3.19        mpfi          136  ...        99.4           front   \n",
       "..      ...   ...         ...          ...  ...         ...             ...   \n",
       "200    3.15  3.78        mpfi          141  ...       109.1           front   \n",
       "201    3.15  3.78        mpfi          141  ...       109.1           front   \n",
       "202    2.87  3.58        mpfi          173  ...       109.1           front   \n",
       "203    3.40  3.01         idi          145  ...       109.1           front   \n",
       "204    3.15  3.78        mpfi          141  ...       109.1           front   \n",
       "\n",
       "     drive-wheels   body-style  num-of-doors  aspiration  fuel-type  \\\n",
       "0             rwd  convertible           2.0         std        gas   \n",
       "1             rwd  convertible           2.0         std        gas   \n",
       "2             rwd    hatchback           2.0         std        gas   \n",
       "3             fwd        sedan           4.0         std        gas   \n",
       "4             4wd        sedan           4.0         std        gas   \n",
       "..            ...          ...           ...         ...        ...   \n",
       "200           rwd        sedan           4.0         std        gas   \n",
       "201           rwd        sedan           4.0       turbo        gas   \n",
       "202           rwd        sedan           4.0         std        gas   \n",
       "203           rwd        sedan           4.0       turbo     diesel   \n",
       "204           rwd        sedan           4.0       turbo        gas   \n",
       "\n",
       "            make normalized-losses symboling  \n",
       "0    alfa-romero               NaN         3  \n",
       "1    alfa-romero               NaN         3  \n",
       "2    alfa-romero               NaN         1  \n",
       "3           audi             164.0         2  \n",
       "4           audi             164.0         2  \n",
       "..           ...               ...       ...  \n",
       "200        volvo              95.0        -1  \n",
       "201        volvo              95.0        -1  \n",
       "202        volvo              95.0        -1  \n",
       "203        volvo              95.0        -1  \n",
       "204        volvo              95.0        -1  \n",
       "\n",
       "[205 rows x 26 columns]"
      ]
     },
     "execution_count": 20,
     "metadata": {},
     "output_type": "execute_result"
    }
   ],
   "source": [
    "df"
   ]
  },
  {
   "cell_type": "code",
   "execution_count": 21,
   "id": "f9b7c47d-5789-4763-9fd4-040f70eefd0d",
   "metadata": {},
   "outputs": [],
   "source": [
    "df = df.drop_duplicates().dropna()"
   ]
  },
  {
   "cell_type": "code",
   "execution_count": 22,
   "id": "a3c137ea-a8a5-454a-bfec-5896008b72f3",
   "metadata": {},
   "outputs": [],
   "source": [
    "df = pd.get_dummies(df, drop_first=True)  # drop_first=True avoids multicollinearity"
   ]
  },
  {
   "cell_type": "code",
   "execution_count": 23,
   "id": "b854fe4f-cb2b-4c8b-8ab8-713506adcc85",
   "metadata": {},
   "outputs": [],
   "source": [
    "X = df.drop('symboling', axis=1)  # All columns except price\n",
    "y = df['symboling']               # Only the price column"
   ]
  },
  {
   "cell_type": "code",
   "execution_count": 24,
   "id": "835cbe99-35a5-4583-9d53-f9f8ff624be6",
   "metadata": {},
   "outputs": [],
   "source": [
    "from sklearn.model_selection import train_test_split\n",
    "X_train, X_test, y_train, y_test = train_test_split(X, y, test_size=0.2, random_state=42)"
   ]
  },
  {
   "cell_type": "code",
   "execution_count": 25,
   "id": "dd442dc1-9dad-40b4-bdfe-574bfc8aba4b",
   "metadata": {},
   "outputs": [
    {
     "data": {
      "text/plain": [
       "(127, 51)"
      ]
     },
     "execution_count": 25,
     "metadata": {},
     "output_type": "execute_result"
    }
   ],
   "source": [
    "X_train.shape"
   ]
  },
  {
   "cell_type": "code",
   "execution_count": 26,
   "id": "88e50a99-4d78-478b-b8e9-3796536048c4",
   "metadata": {},
   "outputs": [
    {
     "data": {
      "text/plain": [
       "(32, 51)"
      ]
     },
     "execution_count": 26,
     "metadata": {},
     "output_type": "execute_result"
    }
   ],
   "source": [
    "X_test.shape"
   ]
  },
  {
   "cell_type": "code",
   "execution_count": 27,
   "id": "fd1cb877-f5c3-4705-a4c6-4bc74632b784",
   "metadata": {},
   "outputs": [
    {
     "data": {
      "text/plain": [
       "(127,)"
      ]
     },
     "execution_count": 27,
     "metadata": {},
     "output_type": "execute_result"
    }
   ],
   "source": [
    "y_train.shape"
   ]
  },
  {
   "cell_type": "code",
   "execution_count": 28,
   "id": "82b85e28-934b-4d79-8f2f-ac70bcd64d8c",
   "metadata": {},
   "outputs": [
    {
     "data": {
      "text/plain": [
       "(32,)"
      ]
     },
     "execution_count": 28,
     "metadata": {},
     "output_type": "execute_result"
    }
   ],
   "source": [
    "y_test.shape"
   ]
  },
  {
   "cell_type": "code",
   "execution_count": 29,
   "id": "7c49eb43-9937-49f0-9394-be22928904b6",
   "metadata": {},
   "outputs": [
    {
     "data": {
      "text/html": [
       "<style>#sk-container-id-2 {color: black;}#sk-container-id-2 pre{padding: 0;}#sk-container-id-2 div.sk-toggleable {background-color: white;}#sk-container-id-2 label.sk-toggleable__label {cursor: pointer;display: block;width: 100%;margin-bottom: 0;padding: 0.3em;box-sizing: border-box;text-align: center;}#sk-container-id-2 label.sk-toggleable__label-arrow:before {content: \"▸\";float: left;margin-right: 0.25em;color: #696969;}#sk-container-id-2 label.sk-toggleable__label-arrow:hover:before {color: black;}#sk-container-id-2 div.sk-estimator:hover label.sk-toggleable__label-arrow:before {color: black;}#sk-container-id-2 div.sk-toggleable__content {max-height: 0;max-width: 0;overflow: hidden;text-align: left;background-color: #f0f8ff;}#sk-container-id-2 div.sk-toggleable__content pre {margin: 0.2em;color: black;border-radius: 0.25em;background-color: #f0f8ff;}#sk-container-id-2 input.sk-toggleable__control:checked~div.sk-toggleable__content {max-height: 200px;max-width: 100%;overflow: auto;}#sk-container-id-2 input.sk-toggleable__control:checked~label.sk-toggleable__label-arrow:before {content: \"▾\";}#sk-container-id-2 div.sk-estimator input.sk-toggleable__control:checked~label.sk-toggleable__label {background-color: #d4ebff;}#sk-container-id-2 div.sk-label input.sk-toggleable__control:checked~label.sk-toggleable__label {background-color: #d4ebff;}#sk-container-id-2 input.sk-hidden--visually {border: 0;clip: rect(1px 1px 1px 1px);clip: rect(1px, 1px, 1px, 1px);height: 1px;margin: -1px;overflow: hidden;padding: 0;position: absolute;width: 1px;}#sk-container-id-2 div.sk-estimator {font-family: monospace;background-color: #f0f8ff;border: 1px dotted black;border-radius: 0.25em;box-sizing: border-box;margin-bottom: 0.5em;}#sk-container-id-2 div.sk-estimator:hover {background-color: #d4ebff;}#sk-container-id-2 div.sk-parallel-item::after {content: \"\";width: 100%;border-bottom: 1px solid gray;flex-grow: 1;}#sk-container-id-2 div.sk-label:hover label.sk-toggleable__label {background-color: #d4ebff;}#sk-container-id-2 div.sk-serial::before {content: \"\";position: absolute;border-left: 1px solid gray;box-sizing: border-box;top: 0;bottom: 0;left: 50%;z-index: 0;}#sk-container-id-2 div.sk-serial {display: flex;flex-direction: column;align-items: center;background-color: white;padding-right: 0.2em;padding-left: 0.2em;position: relative;}#sk-container-id-2 div.sk-item {position: relative;z-index: 1;}#sk-container-id-2 div.sk-parallel {display: flex;align-items: stretch;justify-content: center;background-color: white;position: relative;}#sk-container-id-2 div.sk-item::before, #sk-container-id-2 div.sk-parallel-item::before {content: \"\";position: absolute;border-left: 1px solid gray;box-sizing: border-box;top: 0;bottom: 0;left: 50%;z-index: -1;}#sk-container-id-2 div.sk-parallel-item {display: flex;flex-direction: column;z-index: 1;position: relative;background-color: white;}#sk-container-id-2 div.sk-parallel-item:first-child::after {align-self: flex-end;width: 50%;}#sk-container-id-2 div.sk-parallel-item:last-child::after {align-self: flex-start;width: 50%;}#sk-container-id-2 div.sk-parallel-item:only-child::after {width: 0;}#sk-container-id-2 div.sk-dashed-wrapped {border: 1px dashed gray;margin: 0 0.4em 0.5em 0.4em;box-sizing: border-box;padding-bottom: 0.4em;background-color: white;}#sk-container-id-2 div.sk-label label {font-family: monospace;font-weight: bold;display: inline-block;line-height: 1.2em;}#sk-container-id-2 div.sk-label-container {text-align: center;}#sk-container-id-2 div.sk-container {/* jupyter's `normalize.less` sets `[hidden] { display: none; }` but bootstrap.min.css set `[hidden] { display: none !important; }` so we also need the `!important` here to be able to override the default hidden behavior on the sphinx rendered scikit-learn.org. See: https://github.com/scikit-learn/scikit-learn/issues/21755 */display: inline-block !important;position: relative;}#sk-container-id-2 div.sk-text-repr-fallback {display: none;}</style><div id=\"sk-container-id-2\" class=\"sk-top-container\"><div class=\"sk-text-repr-fallback\"><pre>LinearRegression()</pre><b>In a Jupyter environment, please rerun this cell to show the HTML representation or trust the notebook. <br />On GitHub, the HTML representation is unable to render, please try loading this page with nbviewer.org.</b></div><div class=\"sk-container\" hidden><div class=\"sk-item\"><div class=\"sk-estimator sk-toggleable\"><input class=\"sk-toggleable__control sk-hidden--visually\" id=\"sk-estimator-id-2\" type=\"checkbox\" checked><label for=\"sk-estimator-id-2\" class=\"sk-toggleable__label sk-toggleable__label-arrow\">LinearRegression</label><div class=\"sk-toggleable__content\"><pre>LinearRegression()</pre></div></div></div></div></div>"
      ],
      "text/plain": [
       "LinearRegression()"
      ]
     },
     "execution_count": 29,
     "metadata": {},
     "output_type": "execute_result"
    }
   ],
   "source": [
    "from sklearn import linear_model\n",
    "model = linear_model.LinearRegression()\n",
    "model.fit(X_train, y_train)"
   ]
  },
  {
   "cell_type": "code",
   "execution_count": 30,
   "id": "2ae1f978-ad3f-40ed-b218-4a4039a1dabe",
   "metadata": {},
   "outputs": [
    {
     "data": {
      "text/plain": [
       "array([ 0.07630847, -1.04075959,  1.43651208,  0.81574856,  1.79782948,\n",
       "       -0.77857537,  4.63228752,  2.50709362,  0.92479859,  2.66587872,\n",
       "        1.47245664,  0.131612  ,  0.61825468,  1.51340853, -0.4125177 ,\n",
       "       -0.10304624,  1.72657203,  0.15172702,  2.53048486,  0.60930438,\n",
       "       -1.30057306,  0.16094016,  1.24665896,  1.08826042,  1.56077128,\n",
       "        2.00900899,  3.82146677,  0.78597067,  1.97924794, -1.50438914,\n",
       "       -1.22372127,  2.76485247])"
      ]
     },
     "execution_count": 30,
     "metadata": {},
     "output_type": "execute_result"
    }
   ],
   "source": [
    "y_pred = model.predict(X_test)\n",
    "y_pred"
   ]
  },
  {
   "cell_type": "code",
   "execution_count": 31,
   "id": "f330c623-e9f1-490f-9456-ba15dadedfd3",
   "metadata": {},
   "outputs": [
    {
     "name": "stdout",
     "output_type": "stream",
     "text": [
      "[-9.76041101e-06  5.83101459e-02 -7.58015808e-02  2.02627158e-04\n",
      " -1.99817490e-03  2.59524886e-01 -3.44435152e-01  4.47640524e-01\n",
      "  8.89519870e-03  1.52898883e-01 -4.51635087e-04 -1.12666979e-01\n",
      "  1.71408035e-02 -1.97732435e-02 -2.34942873e-02 -2.72685288e-01\n",
      "  8.84147857e-03  1.05826774e+00 -1.34845165e+00 -1.27853284e-12\n",
      "  7.91234725e-01  4.25474545e-01  5.84737525e-01 -2.72872114e-01\n",
      " -1.07993277e+00 -4.21226246e-01 -4.49676095e-01 -3.08146645e-01\n",
      " -8.45973018e-01 -1.11603395e+00 -1.43273611e+00 -8.88008139e-01\n",
      "  6.22460216e-01  1.34845165e+00 -2.07272212e+00 -1.83313018e+00\n",
      " -2.12282279e+00 -9.26525366e-01 -1.40776204e+00 -1.34376443e+00\n",
      " -1.60843436e+00 -1.20998726e+00 -1.39845847e+00 -1.91090644e+00\n",
      " -1.82993068e+00 -1.34417742e+00  8.25400565e-01 -1.07993277e+00\n",
      " -1.51686307e+00  8.12535094e-01 -2.34921932e+00]\n"
     ]
    }
   ],
   "source": [
    "print(model.coef_)"
   ]
  },
  {
   "cell_type": "code",
   "execution_count": 32,
   "id": "d6b154e0-8d88-43e9-b17e-fe884846b24f",
   "metadata": {},
   "outputs": [
    {
     "name": "stdout",
     "output_type": "stream",
     "text": [
      "8.241401206371291\n"
     ]
    }
   ],
   "source": [
    "print(model.intercept_)"
   ]
  },
  {
   "cell_type": "code",
   "execution_count": 36,
   "id": "0548227b-2517-4bb3-804c-ac8f49dddbca",
   "metadata": {},
   "outputs": [
    {
     "name": "stdout",
     "output_type": "stream",
     "text": [
      "Persamaan Linear Regression:\n",
      "y = 8.241401206371291 + (-9.760411010929716e-06 * price) + (0.05831014587219058 * highway-mpg) + (-0.07580158075114368 * city-mpg) + (0.00020262715813677487 * peak-rpm) + (-0.001998174897625822 * horsepower) + (0.25952488556302644 * compression-ratio) + (-0.3444351520647575 * stroke) + (0.447640523523231 * bore) + (0.00889519870018543 * engine-size) + (0.15289888294385437 * num-of-cylinders) + (-0.0004516350873296493 * curb-weight) + (-0.11266697917025867 * height) + (0.017140803500630214 * width) + (-0.01977324346535525 * length) + (-0.023494287255547197 * wheel-base) + (-0.2726852880458276 * num-of-doors) + (0.008841478574275002 * normalized-losses) + (1.0582677445124675 * symboling) + (-1.3484516485216695 * fuel-system_2bbl) + (-1.2785328351583303e-12 * fuel-system_idi) + (0.7912347249243072 * fuel-system_mfi) + (0.4254745451929427 * fuel-system_mpfi) + (0.5847375254730027 * fuel-system_spdi) + (-0.27287211444376036 * engine-type_l) + (-1.0799327738235691 * engine-type_ohc) + (-0.4212262457334489 * engine-type_ohcf) + (-0.44967609482375814 * engine-type_ohcv) + (-0.3081466453671219 * drive-wheels_fwd) + (-0.8459730179478803 * drive-wheels_rwd) + (-1.116033948648556 * body-style_hardtop) + (-1.4327361097794216 * body-style_hatchback) + (-0.888008139078544 * body-style_sedan) + (0.6224602159630735 * body-style_wagon) + (1.3484516485288038 * aspiration_turbo) + (-2.0727221231213115 * fuel-type_gas) + (-1.8331301810450604 * make_bmw) + (-2.1228227916832245 * make_chevrolet) + (-0.9265253661053685 * make_dodge) + (-1.4077620445947685 * make_honda) + (-1.3437644307185375 * make_jaguar) + (-1.6084343577600178 * make_mazda) + (-1.2099872573415797 * make_mercedes-benz) + (-1.398458473981283 * make_mitsubishi) + (-1.9109064382211511 * make_nissan) + (-1.8299306833429367 * make_peugot) + (-1.344177417427862 * make_plymouth) + (0.8254005649696656 * make_porsche) + (-1.0799327738242956 * make_saab) + (-1.5168630664512905 * make_subaru) + (0.81253509423885 * make_toyota) + (-2.3492193165719453 * make_volkswagen)\n"
     ]
    }
   ],
   "source": [
    "# Ambil koefisien dan intercept\n",
    "coefficients = model.coef_\n",
    "intercept = model.intercept_\n",
    "\n",
    "# Nama fiturnya (kalau pakai DataFrame)\n",
    "feature_names = df.columns  # jika X adalah DataFrame\n",
    "\n",
    "# Buat persamaan\n",
    "equation = f\"y = {intercept:}\"\n",
    "for coef, name in zip(coefficients, feature_names):\n",
    "    equation += f\" + ({coef:} * {name})\"\n",
    "\n",
    "print(\"Persamaan Linear Regression:\")\n",
    "print(equation)"
   ]
  },
  {
   "cell_type": "code",
   "execution_count": 34,
   "id": "82b0c2a2-3f44-4593-b439-486d2470c906",
   "metadata": {},
   "outputs": [
    {
     "name": "stdout",
     "output_type": "stream",
     "text": [
      "MSE: 0.667641958965205\n",
      "RMSE: 0.8170936047756125\n",
      "R-squared: 0.545132823699022\n"
     ]
    }
   ],
   "source": [
    "from sklearn.metrics import mean_squared_error, r2_score\n",
    "\n",
    "mse = mean_squared_error(y_test, y_pred)\n",
    "rmse = np.sqrt(mse)\n",
    "r2 = r2_score(y_test, y_pred)\n",
    "\n",
    "print(\"MSE:\", mse)\n",
    "print(\"RMSE:\", rmse)\n",
    "print(\"R-squared:\", r2)"
   ]
  }
 ],
 "metadata": {
  "kernelspec": {
   "display_name": "Python 3 (ipykernel)",
   "language": "python",
   "name": "python3"
  },
  "language_info": {
   "codemirror_mode": {
    "name": "ipython",
    "version": 3
   },
   "file_extension": ".py",
   "mimetype": "text/x-python",
   "name": "python",
   "nbconvert_exporter": "python",
   "pygments_lexer": "ipython3",
   "version": "3.8.20"
  }
 },
 "nbformat": 4,
 "nbformat_minor": 5
}
